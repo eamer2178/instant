{
 "cells": [
  {
   "cell_type": "markdown",
   "id": "39be0a48",
   "metadata": {},
   "source": []
  },
  {
   "cell_type": "markdown",
   "id": "759d04ba",
   "metadata": {},
   "source": [
    "**1-Write a Python program to calculate the length of a string using 2 ways"
   ]
  },
  {
   "cell_type": "code",
   "execution_count": 1,
   "id": "e434c950",
   "metadata": {},
   "outputs": [
    {
     "name": "stdout",
     "output_type": "stream",
     "text": [
      "5\n"
     ]
    }
   ],
   "source": [
    "x=\"esraa\"\n",
    "print(len(x))"
   ]
  },
  {
   "cell_type": "code",
   "execution_count": 2,
   "id": "7a2dfa32",
   "metadata": {},
   "outputs": [
    {
     "name": "stdout",
     "output_type": "stream",
     "text": [
      "please enter astring:esraa\n"
     ]
    },
    {
     "data": {
      "text/plain": [
       "5"
      ]
     },
     "execution_count": 2,
     "metadata": {},
     "output_type": "execute_result"
    }
   ],
   "source": [
    "x=input(\"please enter astring:\")\n",
    "len(x)"
   ]
  },
  {
   "cell_type": "raw",
   "id": "92c4b446",
   "metadata": {},
   "source": [
    "# **2-Write a Python program to get a string made of the first 2 and last 2 characters of a given string. If the string length is less than 2, return the empty string instead (\"##Sample String : 'w3resource'\n",
    "Expected Result : 'w3ce'\n",
    "##Sample String : 'w3'\n",
    "Expected Result : 'w3w3'\n",
    "##Sample String : ' w'\n",
    "Expected Result : Empty String)"
   ]
  },
  {
   "cell_type": "code",
   "execution_count": 1,
   "id": "dafa9dd8",
   "metadata": {},
   "outputs": [
    {
     "name": "stdout",
     "output_type": "stream",
     "text": [
      "please enter astring esraaatef\n",
      "esef\n"
     ]
    }
   ],
   "source": [
    "x=input(str(\"please enter astring \"))\n",
    "if(len(x)<2):\n",
    "    print(\"empty string\")\n",
    "else:\n",
    "    print(x[:2]+x[-2:])"
   ]
  },
  {
   "cell_type": "markdown",
   "id": "1534f956",
   "metadata": {},
   "source": [
    "**3-Write a Python program to add 'ing' at the end of a given string (length should be at least 3). If the given string already ends with 'ing', add 'ly' instead. If the string length of the given string is less than 3, leave it unchanged. (Sample String : 'abc' Expected Result : 'abcing')"
   ]
  },
  {
   "cell_type": "code",
   "execution_count": 8,
   "id": "7ff8cec4",
   "metadata": {
    "scrolled": false
   },
   "outputs": [
    {
     "name": "stdout",
     "output_type": "stream",
     "text": [
      "please enter astring:playing\n",
      "playly\n"
     ]
    }
   ],
   "source": [
    "x=input(str(\"please enter astring:\"))\n",
    "if(len(x)>=3):\n",
    "    if(x.endswith(\"ing\")):        \n",
    "        print(x.replace(\"ing\",\"ly\"))\n",
    "    else:\n",
    "        print(x+(\"ing\"))\n",
    "else:\n",
    "    print(x)"
   ]
  },
  {
   "cell_type": "markdown",
   "id": "1c0a6627",
   "metadata": {},
   "source": [
    "**4-Write a Python function that takes a list of words and return the longest word and the length of the longest one\n",
    "(Longest word: Exercises\n",
    "Length of the longest word: 9)"
   ]
  },
  {
   "cell_type": "code",
   "execution_count": 3,
   "id": "397341d9",
   "metadata": {},
   "outputs": [
    {
     "name": "stdout",
     "output_type": "stream",
     "text": [
      "please enter length of alist:3\n",
      "asmaa \n",
      "wardaa\n",
      "mostafa\n",
      "['asmaa ', 'wardaa', 'mostafa']\n",
      "mostafa\n",
      "7\n"
     ]
    }
   ],
   "source": [
    "a=(int(input(\"please enter length of alist:\")))\n",
    "l=[]\n",
    "for i in range(a):\n",
    "    item=input(\"\")\n",
    "    l.append(item)\n",
    "    i+=1\n",
    "print(l)\n",
    "max=len(l[0])\n",
    "for i in range (a):    \n",
    "    if(len(l[i])>max):\n",
    "        max=len(l[i])\n",
    "        print(l[i])\n",
    "        print(max)\n",
    "    else:\n",
    "        i+=1\n",
    "\n"
   ]
  },
  {
   "cell_type": "markdown",
   "id": "53a03a6a",
   "metadata": {},
   "source": [
    "**5-Write a Python program to change a given string to a newly string where the first and last chars have been exchanged using 2 ways (Sample String:abca  Expected Result:ebce)"
   ]
  },
  {
   "cell_type": "code",
   "execution_count": null,
   "id": "fd327d2a",
   "metadata": {},
   "outputs": [],
   "source": [
    "a = input(\"words:\")\n",
    "if len(a) < 2:\n",
    "    print(a)\n",
    "else:\n",
    "    first_char = input(\"Enter the first character: \")\n",
    "    last_char = input(\"Enter the last character: \")\n",
    "    new_string = first_char + a[1:-1] + last_char\n",
    "    print(new_string)\n"
   ]
  },
  {
   "cell_type": "code",
   "execution_count": null,
   "id": "285788b4",
   "metadata": {},
   "outputs": [],
   "source": [
    " **6-Write a Python program to remove characters that have odd index values in a given string (Sample String:abca Expected Result:ac)  \n",
    "\n"
   ]
  },
  {
   "cell_type": "markdown",
   "id": "25f89808",
   "metadata": {},
   "source": [
    "a=input(\"\")\n",
    "s=len(a)\n",
    "print(s)\n",
    "for i in range(s):     \n",
    "    if(i%2!=0):\n",
    "        remove(a[i])\n",
    "        i=i+1\n",
    "print(a)"
   ]
  },
  {
   "cell_type": "code",
   "execution_count": 71,
   "id": "05959bd7",
   "metadata": {
    "scrolled": false
   },
   "outputs": [
    {
     "name": "stdout",
     "output_type": "stream",
     "text": [
      "esraa\n",
      "5\n",
      "sa\n"
     ]
    }
   ],
   "source": [
    "a=input(\"\")\n",
    "s=len(a)\n",
    "print(s) \n",
    "e=\"\"\n",
    "for i in range(s):     \n",
    "    if(i%2!=0):\n",
    "        e=e+a[i]\n",
    "print(e)    \n",
    "\n"
   ]
  },
  {
   "cell_type": "markdown",
   "id": "eb16e898",
   "metadata": {},
   "source": [
    "**7-Write a Python program to count the of each word in a given sentence (Sample String:amr and ahmed are frindes but amr is the tallest Expected Result:2)"
   ]
  },
  {
   "cell_type": "code",
   "execution_count": 72,
   "id": "01ce6cf5",
   "metadata": {},
   "outputs": [
    {
     "name": "stdout",
     "output_type": "stream",
     "text": [
      "esraa love her father but esraa play football\n",
      "esraa\n",
      "2\n"
     ]
    }
   ],
   "source": [
    "a=input(\"\")\n",
    "print(a.count(input(\"\"))) "
   ]
  },
  {
   "cell_type": "markdown",
   "id": "4e8125f1",
   "metadata": {},
   "source": [
    "**8-Write a Python script that takes input from the user and displays that input back in upper and lower cases"
   ]
  },
  {
   "cell_type": "code",
   "execution_count": 75,
   "id": "66c8f778",
   "metadata": {},
   "outputs": [
    {
     "name": "stdout",
     "output_type": "stream",
     "text": [
      "esraa\n",
      "ESRAA\n",
      "esraa\n"
     ]
    }
   ],
   "source": [
    "a=input(\"\")\n",
    "print(a.upper())\n",
    "print(a.lower())\n",
    "        "
   ]
  },
  {
   "cell_type": "markdown",
   "id": "fcd68aa1",
   "metadata": {},
   "source": [
    "**9-Write a Python function to reverse a string if its length is a multiple of 4"
   ]
  },
  {
   "cell_type": "code",
   "execution_count": 4,
   "id": "0671a931",
   "metadata": {},
   "outputs": [
    {
     "name": "stdout",
     "output_type": "stream",
     "text": [
      "esraa\n",
      "esraa\n"
     ]
    }
   ],
   "source": [
    "a=input(\"\")    \n",
    "if(len(a)%4==0):\n",
    "     print(a[-1:-5])\n",
    "else:\n",
    "    print(a)\n"
   ]
  },
  {
   "cell_type": "markdown",
   "id": "b577c68d",
   "metadata": {},
   "source": [
    "**10- Write a Python program to remove a newline in Python"
   ]
  },
  {
   "cell_type": "code",
   "execution_count": 95,
   "id": "e0c6525a",
   "metadata": {},
   "outputs": [
    {
     "name": "stdout",
     "output_type": "stream",
     "text": [
      "\n",
      "esraa\n",
      "atef\n",
      "\n"
     ]
    }
   ],
   "source": [
    "a=\"\"\"\n",
    "esraa\n",
    "atef\n",
    "\"\"\"\n",
    "a=a.replace(\"\\n\",\"\")\n",
    "print(a)"
   ]
  },
  {
   "cell_type": "markdown",
   "id": "80db5ae0",
   "metadata": {},
   "source": [
    "**11-Write a Python program to check whether a string starts with specified characters"
   ]
  },
  {
   "cell_type": "code",
   "execution_count": 1,
   "id": "0cc4e03e",
   "metadata": {},
   "outputs": [
    {
     "name": "stdout",
     "output_type": "stream",
     "text": [
      "esraa\n",
      "True\n"
     ]
    }
   ],
   "source": [
    "a=input(\"\")\n",
    "print(a.startswith(\"e\"))"
   ]
  },
  {
   "cell_type": "markdown",
   "id": "593a68db",
   "metadata": {},
   "source": [
    "**12- Write a Python program to add prefix text to all of the lines in a string"
   ]
  },
  {
   "cell_type": "code",
   "execution_count": null,
   "id": "d2e46ada",
   "metadata": {},
   "outputs": [],
   "source": [
    "a=str(input(\"\"))\n",
    "\n"
   ]
  },
  {
   "cell_type": "markdown",
   "id": "86fa1543",
   "metadata": {},
   "source": [
    "**13-Write a Python program to print the following numbers up to 2 decimal places"
   ]
  },
  {
   "cell_type": "code",
   "execution_count": 116,
   "id": "cd4a9d89",
   "metadata": {},
   "outputs": [
    {
     "name": "stdout",
     "output_type": "stream",
     "text": [
      "4.5555\n",
      "Number 1: 4.56\n",
      "{a:.3f}\n"
     ]
    }
   ],
   "source": [
    "a=float(input())\n",
    "print(f\"Number 1: {a:.2f}\")\n"
   ]
  },
  {
   "cell_type": "markdown",
   "id": "452c0ab0",
   "metadata": {},
   "source": [
    "**14-Write a Python program to print the following numbers up to 2 decimal places with a sign"
   ]
  },
  {
   "cell_type": "code",
   "execution_count": null,
   "id": "73e82479",
   "metadata": {},
   "outputs": [],
   "source": [
    "a=float(input())\n",
    "\n"
   ]
  },
  {
   "cell_type": "markdown",
   "id": "32b1811a",
   "metadata": {},
   "source": [
    "**15-Write a Python program to display a number with a comma separator"
   ]
  },
  {
   "cell_type": "code",
   "execution_count": 7,
   "id": "f30fc0b6",
   "metadata": {},
   "outputs": [
    {
     "name": "stdout",
     "output_type": "stream",
     "text": [
      "1,2,3,4,5\n"
     ]
    },
    {
     "data": {
      "text/plain": [
       "['1', '2', '3', '4', '5']"
      ]
     },
     "execution_count": 7,
     "metadata": {},
     "output_type": "execute_result"
    }
   ],
   "source": [
    "a=input()\n",
    "a.split(\",\")"
   ]
  },
  {
   "cell_type": "markdown",
   "id": "0477f487",
   "metadata": {},
   "source": [
    "**16-Write a Python program to reverse a string using 2 ways"
   ]
  },
  {
   "cell_type": "code",
   "execution_count": 16,
   "id": "aa8beec8",
   "metadata": {},
   "outputs": [
    {
     "name": "stdout",
     "output_type": "stream",
     "text": [
      "aarse\n"
     ]
    }
   ],
   "source": [
    "a=\"esraa\"\n",
    "print(a[::-1])"
   ]
  },
  {
   "cell_type": "code",
   "execution_count": 26,
   "id": "515a469c",
   "metadata": {},
   "outputs": [
    {
     "name": "stdout",
     "output_type": "stream",
     "text": [
      "esraa\n",
      "aarse"
     ]
    }
   ],
   "source": [
    "a=str(input())\n",
    "for i in a[::-1]:\n",
    "    print(i,end=\"\")\n",
    "    "
   ]
  },
  {
   "cell_type": "markdown",
   "id": "5afc3166",
   "metadata": {},
   "source": [
    " **17-Write a Python program to count repeated characters in a string (hint:use dictionary)"
   ]
  },
  {
   "cell_type": "code",
   "execution_count": 6,
   "id": "d73778e5",
   "metadata": {},
   "outputs": [
    {
     "name": "stdout",
     "output_type": "stream",
     "text": [
      "esraaatef\n",
      "'e': 2\n",
      "'s': 1\n",
      "'r': 1\n",
      "'a': 3\n",
      "'t': 1\n",
      "'f': 1\n"
     ]
    }
   ],
   "source": [
    "a=str(input())\n",
    "char_count={}\n",
    "for char in a:\n",
    "    if char in char_count:\n",
    "        char_count[char]+=1\n",
    "    else:\n",
    "        char_count[char]=1\n",
    "for char, count in char_count.items():\n",
    "    print(f\"'{char}': {count}\")"
   ]
  },
  {
   "cell_type": "markdown",
   "id": "ae14e4e5",
   "metadata": {},
   "source": [
    "**18-Write a Python program to find the first non-repeating character in a given string"
   ]
  },
  {
   "cell_type": "code",
   "execution_count": 8,
   "id": "b4f22602",
   "metadata": {},
   "outputs": [
    {
     "name": "stdout",
     "output_type": "stream",
     "text": [
      "esraa\n",
      "e\n"
     ]
    }
   ],
   "source": [
    "a=str(input())\n",
    "char_count={}\n",
    "for char in a:\n",
    "    if char !=char_count:\n",
    "        print (char)\n",
    "        break\n",
    "    else:\n",
    "        continue\n",
    "    \n"
   ]
  },
  {
   "cell_type": "markdown",
   "id": "3adf5669",
   "metadata": {},
   "source": [
    "**19-Write a Python program to remove spaces from a given string"
   ]
  },
  {
   "cell_type": "code",
   "execution_count": 10,
   "id": "ef3f2274",
   "metadata": {},
   "outputs": [
    {
     "name": "stdout",
     "output_type": "stream",
     "text": [
      "es  raa\n",
      "esraa\n"
     ]
    }
   ],
   "source": [
    "a=str(input())\n",
    "b=a.replace(\" \",\"\")\n",
    "print(b)\n"
   ]
  },
  {
   "cell_type": "markdown",
   "id": "734de60c",
   "metadata": {},
   "source": [
    "**20-Write a Python program to count the number of non-empty substrings of a given string"
   ]
  },
  {
   "cell_type": "code",
   "execution_count": 15,
   "id": "68692d7f",
   "metadata": {},
   "outputs": [
    {
     "name": "stdout",
     "output_type": "stream",
     "text": [
      "es\n",
      "2\n"
     ]
    }
   ],
   "source": [
    "a=str(input())\n",
    "b=len(a)\n",
    "c=int((b*(b+1)/2)-1)\n",
    "print(c)"
   ]
  },
  {
   "cell_type": "markdown",
   "id": "509998e2",
   "metadata": {},
   "source": [
    "**21-write a Python program to swap first and last element of any list."
   ]
  },
  {
   "cell_type": "code",
   "execution_count": 30,
   "id": "225d8c6d",
   "metadata": {},
   "outputs": [
    {
     "name": "stdout",
     "output_type": "stream",
     "text": [
      "3\n",
      "please enter an element:k\n",
      "please enter an element:l\n",
      "please enter an element:h\n",
      "['k', 'l', 'h']\n",
      "['h', 'l', 'k']\n"
     ]
    }
   ],
   "source": [
    "a=[]\n",
    "b=int(input())\n",
    "for i in range(b):\n",
    "    c=input(\"please enter an element:\")\n",
    "    a.append(c)\n",
    "print(a)    \n",
    "a[0],a[-1]=a[-1],a[0]\n",
    "print(a)\n",
    "        \n",
    "    \n",
    "    "
   ]
  },
  {
   "cell_type": "markdown",
   "id": "959e0837",
   "metadata": {},
   "source": [
    "\n",
    "**22-Given a list in Python and provided the positions of the elements, write a program to swap the two elements in the list. (Input : List = [23, 65, 19, 90], pos1 = 1, pos2 = 3\n",
    "Output : [19, 65, 23, 90])"
   ]
  },
  {
   "cell_type": "code",
   "execution_count": 38,
   "id": "15f342de",
   "metadata": {
    "scrolled": true
   },
   "outputs": [
    {
     "name": "stdout",
     "output_type": "stream",
     "text": [
      "3\n",
      "please enter an element:e\n",
      "please enter an element:r\n",
      "please enter an element:t\n",
      "['e', 'r', 't']\n",
      "['e', 't', 'r']\n"
     ]
    }
   ],
   "source": [
    "def swap(a,pos1,pos2):\n",
    "    a[pos1],a[pos2]=a[pos2],a[pos1]\n",
    "\n",
    "a=[]\n",
    "b=int(input())\n",
    "for i in range(b):\n",
    "    c=input(\"please enter an element:\")\n",
    "    a.append(c)\n",
    "print(a)\n",
    "swap(a,1,2)\n",
    "print(a)"
   ]
  },
  {
   "cell_type": "markdown",
   "id": "66fc6682",
   "metadata": {},
   "source": [
    "**23- search for the all ways to know the length of the list"
   ]
  },
  {
   "cell_type": "code",
   "execution_count": 39,
   "id": "21f8cbd6",
   "metadata": {},
   "outputs": [
    {
     "name": "stdout",
     "output_type": "stream",
     "text": [
      "0\n"
     ]
    }
   ],
   "source": [
    "a=[]\n",
    "print(len(a))"
   ]
  },
  {
   "cell_type": "code",
   "execution_count": 43,
   "id": "a0061db8",
   "metadata": {},
   "outputs": [],
   "source": [
    "# **24-write a Python code to find the Maximum number of list of numbers."
   ]
  },
  {
   "cell_type": "code",
   "execution_count": 4,
   "id": "51ca5c9a",
   "metadata": {},
   "outputs": [
    {
     "name": "stdout",
     "output_type": "stream",
     "text": [
      "3\n",
      "please enter element:1\n",
      "please enter element:2\n",
      "please enter element:3\n",
      "['1', '2', '3']\n",
      "3\n"
     ]
    }
   ],
   "source": [
    "a=[]\n",
    "b=int(input())\n",
    "for i in range(b):\n",
    "    c=input(\"please enter element:\")\n",
    "    a.append(c)\n",
    "print(a)\n",
    "max_element=a[0]\n",
    "for i in a:\n",
    "    if i>a[0]:\n",
    "        max=i\n",
    "    else:\n",
    "        continue\n",
    "print(max)        \n",
    "    "
   ]
  },
  {
   "cell_type": "code",
   "execution_count": null,
   "id": "1a89b9d3",
   "metadata": {},
   "outputs": [],
   "source": [
    "**25-write a Python code to find the Minimum number of list of numbers."
   ]
  },
  {
   "cell_type": "code",
   "execution_count": 6,
   "id": "b69858a3",
   "metadata": {
    "scrolled": true
   },
   "outputs": [
    {
     "name": "stdout",
     "output_type": "stream",
     "text": [
      "3\n",
      "please enter an element:1\n",
      "please enter an element:2\n",
      "please enter an element:3\n",
      "['1', '2', '3']\n",
      "1\n"
     ]
    }
   ],
   "source": [
    "a=[]\n",
    "b=int(input())\n",
    "for i in range(b):\n",
    "    c=input(\"please enter an element:\")\n",
    "    a.append(c)\n",
    "print(a)\n",
    "min=a[0]\n",
    "for i in a:\n",
    "    if i<a[0]:\n",
    "        min=i\n",
    "    else:\n",
    "        continue\n",
    "print(min)        \n",
    "    "
   ]
  },
  {
   "cell_type": "markdown",
   "id": "96822d96",
   "metadata": {},
   "source": [
    "**26-search for if an elem is existing in list"
   ]
  },
  {
   "cell_type": "code",
   "execution_count": 16,
   "id": "5e362228",
   "metadata": {},
   "outputs": [
    {
     "name": "stdout",
     "output_type": "stream",
     "text": [
      "3\n",
      "please enter an element:1\n",
      "please enter an element:2\n",
      "please enter an element:3\n",
      "['1', '2', '3']\n",
      "please enter your element you search about it:4\n",
      "the element not found\n"
     ]
    }
   ],
   "source": [
    "a=[]\n",
    "b=int(input())\n",
    "for i in range(b):\n",
    "    c=input(\"please enter an element:\")\n",
    "    a.append(c)\n",
    "print(a)\n",
    "c=input(\"please enter your element you search about it:\")\n",
    "if (c==a[i]):\n",
    "    print(\"i found it\")\n",
    "                \n",
    "else:\n",
    "    print(\"the element not found\")"
   ]
  },
  {
   "cell_type": "markdown",
   "id": "d9557da7",
   "metadata": {},
   "source": [
    "**27- clear python list using different ways"
   ]
  },
  {
   "cell_type": "code",
   "execution_count": 20,
   "id": "4d4e2d28",
   "metadata": {},
   "outputs": [
    {
     "name": "stdout",
     "output_type": "stream",
     "text": [
      "[]\n"
     ]
    }
   ],
   "source": [
    "a=[1,2,3,4,5]\n",
    "(a.clear())\n",
    "print(a)"
   ]
  },
  {
   "cell_type": "markdown",
   "id": "52160e88",
   "metadata": {},
   "source": [
    "**28-remove duplicated elements from a list"
   ]
  },
  {
   "cell_type": "code",
   "execution_count": 21,
   "id": "72132667",
   "metadata": {},
   "outputs": [
    {
     "name": "stdout",
     "output_type": "stream",
     "text": [
      "3\n",
      "please enter an element:1\n",
      "please enter an element:2\n",
      "please enter an element:2\n",
      "['1', '2', '2']\n",
      "['2', '1']\n"
     ]
    }
   ],
   "source": [
    "a=[]\n",
    "b=int(input())\n",
    "for i in range(b):\n",
    "    c=input(\"please enter an element:\")\n",
    "    a.append(c)\n",
    "print(a)\n",
    "a=list(set(a))\n",
    "print(a)"
   ]
  },
  {
   "cell_type": "markdown",
   "id": "282337f7",
   "metadata": {},
   "source": [
    "**29-Given list values and keys list, convert these values to key value pairs in form of list of dictionaries. (Input : test_list = [“Gfg”, 3, “is”, 8], key_list = [“name”, “id”]\n",
    "Output : [{‘name’: ‘Gfg’, ‘id’: 3}, {‘name’: ‘is’, ‘id’: 8}])"
   ]
  },
  {
   "cell_type": "code",
   "execution_count": 39,
   "id": "d81f3f9d",
   "metadata": {},
   "outputs": [
    {
     "name": "stdout",
     "output_type": "stream",
     "text": [
      "[{'name': 'Gfg', 'id': 3}, {'name': 'is', 'id': 8}]\n"
     ]
    }
   ],
   "source": [
    "test_list = [\"Gfg\", 3, \"is\", 8]\n",
    "key_list = [\"name\", \"id\"]\n",
    "\n",
    "s=[]\n",
    "for i in range (0,len(test_list),2):\n",
    "     s.append({key_list[0]:test_list[i],key_list[1]:test_list[i+1]})\n",
    "print(s)\n"
   ]
  },
  {
   "cell_type": "markdown",
   "id": "c26b6e9f",
   "metadata": {},
   "source": [
    "**30-write a python program to count unique values inside a list using different ways"
   ]
  },
  {
   "cell_type": "code",
   "execution_count": 40,
   "id": "39fbd9b2",
   "metadata": {},
   "outputs": [
    {
     "name": "stdout",
     "output_type": "stream",
     "text": [
      "3\n",
      "please enter an element:1\n",
      "please enter an element:2\n",
      "please enter an element:2\n",
      "['1', '2', '2']\n",
      "2\n"
     ]
    }
   ],
   "source": [
    "a=[]\n",
    "b=int(input())\n",
    "for i in range(b):\n",
    "    c=input(\"please enter an element:\")\n",
    "    a.append(c)\n",
    "print(a)\n",
    "d=[]\n",
    "for i in a:\n",
    "    if i not in d:\n",
    "        d.append(i)\n",
    "print(len(d))"
   ]
  },
  {
   "cell_type": "markdown",
   "id": "fed6677c",
   "metadata": {},
   "source": [
    "-**31write a python program Extract all elements with Frequency greater than K (Input : test_list = [4, 6, 4, 3, 3, 4, 3, 4, 3, 8], K = 3 \n",
    "Output : [4, 3] )"
   ]
  },
  {
   "cell_type": "code",
   "execution_count": 25,
   "id": "8c520a76",
   "metadata": {},
   "outputs": [
    {
     "name": "stdout",
     "output_type": "stream",
     "text": [
      "all elements with frequency greater than  3 : [4, 3]\n"
     ]
    }
   ],
   "source": [
    "test_list = [4, 6, 4, 3, 3, 4, 3, 4, 3, 8]\n",
    "list=[]\n",
    "k=3\n",
    "for i in test_list:\n",
    "    \n",
    "    if i in list:\n",
    "        continue \n",
    "    else:\n",
    "        count=test_list.count(i)\n",
    "        if count>k:\n",
    "            list.append(i)\n",
    "print(\"all elements with frequency greater than \",k,\":\",list)            "
   ]
  },
  {
   "cell_type": "markdown",
   "id": "caca5224",
   "metadata": {},
   "source": [
    "**32-write a python program to find the Strongest Neighbour (Input: 1 2 2 3 4 5\n",
    "Output: 2 2 3 4 5)"
   ]
  },
  {
   "cell_type": "code",
   "execution_count": 36,
   "id": "59b89646",
   "metadata": {},
   "outputs": [
    {
     "name": "stdout",
     "output_type": "stream",
     "text": [
      "[5, 1, 2, 4, 5, 5]\n"
     ]
    }
   ],
   "source": [
    "a=[1,2,2,3,4,5]\n",
    "list=[]\n",
    "for i in range(len(a)):\n",
    "    if i==0:\n",
    "        i=1\n",
    "    elif i==len(a)-1:\n",
    "        i=len(a)-2\n",
    "         \n",
    "    elif (a[i-1]<a[i]<a[i+1]):\n",
    "        x=a[i+1]\n",
    "    else:\n",
    "        x=a[i-1]         \n",
    "    list.append(x)\n",
    "print(list)   "
   ]
  },
  {
   "cell_type": "markdown",
   "id": "a9fa8baf",
   "metadata": {},
   "source": [
    "**33-write a Python Program to print all Possible Combinations from the three Digits (Input: [1, 2, 3]\n",
    "Output:\n",
    "1 2 3 ##\n",
    "1 3 2 ##\n",
    "2 1 3 ##\n",
    "2 3 1 ##\n",
    "3 1 2 ##\n",
    "3 2 1)"
   ]
  },
  {
   "cell_type": "code",
   "execution_count": 49,
   "id": "8c4ba22b",
   "metadata": {},
   "outputs": [
    {
     "name": "stdout",
     "output_type": "stream",
     "text": [
      "(1, 2, 3)\n",
      "(1, 3, 2)\n",
      "(2, 1, 3)\n",
      "(2, 3, 1)\n",
      "(3, 1, 2)\n",
      "(3, 2, 1)\n"
     ]
    }
   ],
   "source": [
    "\n",
    "from itertools import permutations\n",
    "\n",
    "\n",
    "comb =permutations ([1, 2, 3], 3)\n",
    "\n",
    "for i in comb:\n",
    "    print(i)\n"
   ]
  },
  {
   "cell_type": "markdown",
   "id": "5288bb89",
   "metadata": {},
   "source": [
    "**34-write a Python program to find all the Combinations in the list with the given condition (Input: test_list = [1,2,3] )"
   ]
  },
  {
   "cell_type": "code",
   "execution_count": 5,
   "id": "6dc4c2ba",
   "metadata": {},
   "outputs": [
    {
     "name": "stdout",
     "output_type": "stream",
     "text": [
      "[(1,), (2,), (3,)]\n"
     ]
    }
   ],
   "source": [
    "from itertools import combinations\n",
    "my_list=[1,2,3]\n",
    "for i in range(2):\n",
    "    \n",
    "     new_list=list(combinations(my_list,i))\n",
    "print(new_list)"
   ]
  },
  {
   "cell_type": "markdown",
   "id": "39973705",
   "metadata": {},
   "source": [
    "**35-write a Python program to get all unique combinations of two Lists (List_1 = [\"a\",\"b\"]\n",
    "List_2 = [1,2]\n",
    "Unique_combination = [[('a',1),('b',2)],[('a',2),('b',1)]] )"
   ]
  },
  {
   "cell_type": "code",
   "execution_count": 1,
   "id": "fdd66a71",
   "metadata": {},
   "outputs": [
    {
     "name": "stdout",
     "output_type": "stream",
     "text": [
      "[('a', 1), ('a', 2), ('b', 1), ('b', 2)]\n"
     ]
    }
   ],
   "source": [
    "from itertools import product\n",
    "List_1 = [\"a\", \"b\"]\n",
    "List_2 = [1, 2]\n",
    "unique_combinations =list( product(List_1, List_2))\n",
    "print(unique_combinations)"
   ]
  },
  {
   "cell_type": "markdown",
   "id": "25199af5",
   "metadata": {},
   "source": [
    "**36-Remove all the occurrences of an element from a list in Python (Input : 1 1 2 3 4 5 1 2 1 \n",
    "\n",
    "**Output : 2 3 4 5 2)"
   ]
  },
  {
   "cell_type": "code",
   "execution_count": 4,
   "id": "466645a2",
   "metadata": {},
   "outputs": [
    {
     "name": "stdout",
     "output_type": "stream",
     "text": [
      "3\n",
      "please enter an element:1\n",
      "please enter an element:2\n",
      "please enter an element:2\n",
      "['1', '2', '2']\n",
      "['2', '1']\n"
     ]
    }
   ],
   "source": [
    "a=[]\n",
    "b=int(input())\n",
    "for i in range(b):\n",
    "    c=input(\"please enter an element:\")\n",
    "    a.append(c)\n",
    "print(a)\n",
    "c=list(set(a))\n",
    "print(c)\n",
    "\n"
   ]
  },
  {
   "cell_type": "markdown",
   "id": "bf1a3c93",
   "metadata": {},
   "source": [
    "**37-write a python program to Replace index elements with elements in Other List (The original list 1 is : [‘Gfg’, ‘is’, ‘best’] The original list 2 is : [0, 1, 2, 1, 0, 0, 0, 2, 1, 1, 2, 0] The lists after index elements replacements is : [‘Gfg’, ‘is’, ‘best’, ‘is’, ‘Gfg’, ‘Gfg’, ‘Gfg’, ‘best’, ‘is’, ‘is’, ‘best’, ‘Gfg’])"
   ]
  },
  {
   "cell_type": "code",
   "execution_count": 15,
   "id": "afa66449",
   "metadata": {},
   "outputs": [
    {
     "name": "stdout",
     "output_type": "stream",
     "text": [
      "['Gfg', 'is', 'best', 'is', 'Gfg', 'Gfg', 'Gfg', 'best', 'is', 'is', 'best', 'Gfg']\n"
     ]
    }
   ],
   "source": [
    "l1=[\"Gfg\",\"is\",\"best\"]\n",
    "l2=[0,1,2,1,0,0,0,2,1,1,2,0]\n",
    "for i in range(len(l2)):\n",
    "    if l2[i]==0:\n",
    "        l2[i]=l1[0]\n",
    "    elif l2[i]==1:\n",
    "        l2[i]=l1[1]\n",
    "    else:\n",
    "        l2[i]=l1[2]\n",
    "print(l2)        "
   ]
  },
  {
   "cell_type": "markdown",
   "id": "af0f56e8",
   "metadata": {},
   "source": [
    "**38- write python program to Retain records with N occurrences of K(Input : test_list = [(4, 5, 5, 4), (5, 4, 3)], K = 5, N = 2 \n",
    "Output : [(4, 5, 5, 4)]\n",
    "Input : test_list = [(4, 5, 5, 4), (5, 4, 3)], K = 5, N = 3 \n",
    "Output : [] )"
   ]
  },
  {
   "cell_type": "code",
   "execution_count": 23,
   "id": "67b06671",
   "metadata": {},
   "outputs": [
    {
     "name": "stdout",
     "output_type": "stream",
     "text": [
      "the test_list[(4, 5, 5, 4), (5, 4, 3)]\n",
      "please enter the value of k:5\n",
      "please enter the value of n:2\n",
      "[(4, 5, 5, 4)]\n"
     ]
    }
   ],
   "source": [
    "test_list = [(4, 5, 5, 4), (5, 4, 3)]\n",
    "print(\"the test_list\"+str(test_list))\n",
    "k=int(input(\"please enter the value of k:\"))\n",
    "n==int(input(\"please enter the value of n:\"))\n",
    "new_list=[]\n",
    "for x in test_list:\n",
    "    if (x.count(k)==n):\n",
    "        new_list.append(x)\n",
    "print(new_list)        \n",
    "        "
   ]
  },
  {
   "cell_type": "markdown",
   "id": "de76f183",
   "metadata": {},
   "source": [
    "**39-write a Python Program to Sort the list according to the column using lambda\n",
    "array = [[1, 3, 3], [2, 1, 2], [3, 2, 1]]\n",
    "Output :\n",
    "Sorted array specific to column 0, [[1, 3, 3], [2, 1, 2], [3, 2, 1]]\n",
    "Sorted array specific to column 1, [[2, 1, 2], [3, 2, 1], [1, 3, 3]]\n",
    "Sorted array specific to column 2, [[3, 2, 1], [2, 1, 2], [1, 3, 3]]"
   ]
  },
  {
   "cell_type": "code",
   "execution_count": 15,
   "id": "dc883308",
   "metadata": {},
   "outputs": [
    {
     "name": "stdout",
     "output_type": "stream",
     "text": [
      "Sorted array specific to column 0, [[1, 3, 3], [2, 1, 2], [3, 2, 1]]\n",
      "Sorted array specific to column 1, [[2, 1, 2], [3, 2, 1], [1, 3, 3]]\n",
      "Sorted array specific to column 2, [[3, 2, 1], [2, 1, 2], [1, 3, 3]]\n"
     ]
    }
   ],
   "source": [
    "my_list = [[1, 3, 3], [2, 1, 2], [3, 2, 1]]\n",
    "\n",
    "def sorted_by_column(arr, col):\n",
    "    return sorted(arr, key=lambda x: x[col])\n",
    "\n",
    "for col in range(len(my_list[0])):\n",
    "    sorted_list = sorted_by_column(my_list, col)\n",
    "    print(f\"Sorted array specific to column {col}, {sorted_list}\")\n"
   ]
  },
  {
   "cell_type": "code",
   "execution_count": null,
   "id": "d1306b59",
   "metadata": {},
   "outputs": [],
   "source": [
    "# **40- write a program to Sort Python Dictionaries by Key or Value\n",
    "Input:\n",
    "{'ravi': 10, 'rajnish': 9, 'sanjeev': 15, 'yash': 2, 'suraj': 32}\n",
    "\n",
    "Output: \n",
    "{'rajnish': 9, 'ravi': 10, 'sanjeev': 15, 'suraj': 32, 'yash': 2}"
   ]
  },
  {
   "cell_type": "code",
   "execution_count": 23,
   "id": "a96db4a0",
   "metadata": {},
   "outputs": [
    {
     "name": "stdout",
     "output_type": "stream",
     "text": [
      "{'rajnish': 9, 'ravi': 10, 'sanjeev': 15, 'suraj': 32, 'yash': 2}\n"
     ]
    }
   ],
   "source": [
    "dic = {'ravi': 10, 'rajnish': 9, 'sanjeev': 15, 'yash': 2, 'suraj': 32}\n",
    "\n",
    "def sorted_dic(dictionary):\n",
    "    return dict(sorted(dictionary.items()))\n",
    "\n",
    "sorted_dict = sorted_dic(dic)\n",
    "print(sorted_dict)\n"
   ]
  },
  {
   "cell_type": "markdown",
   "id": "ec63c23a",
   "metadata": {},
   "source": [
    "### **41-write python program to Remove keys with Values Greater than K ( Including mixed values )\n",
    "nput : test_dict = {‘Gfg’ : 3, ‘is’ : 7, ‘best’ : 10, ‘for’ : 6, ‘geeks’ : ‘CS’},\n",
    "K = 7 \n",
    "Output : {‘Gfg’ : 3, ‘for’ : 6, ‘geeks’ : ‘CS’}"
   ]
  },
  {
   "cell_type": "code",
   "execution_count": 32,
   "id": "e39c3a40",
   "metadata": {
    "scrolled": true
   },
   "outputs": [
    {
     "name": "stdout",
     "output_type": "stream",
     "text": [
      "please enter the number of dic:2\n",
      "enter the key:a\n",
      "enter the values:3\n",
      "enter the key:s\n",
      "enter the values:6\n",
      "{'a': '3', 's': '6'}\n",
      "please enter intial num for k4\n",
      "filter_dic:{'a': '3'}\n"
     ]
    }
   ],
   "source": [
    "num=int(input(\"please enter the number of dic:\"))\n",
    "dic={}\n",
    "for i in range(num):\n",
    "\n",
    "    keys=input(\"enter the key:\")\n",
    "    values=input(\"enter the values:\")\n",
    "    dic[keys]=values\n",
    "print(dic)\n",
    "k=int(input(\"please enter intial num for k\"))\n",
    "filter_dic={}\n",
    "for key,value in dic.items():\n",
    "    if  int(value)<=k:\n",
    "        filter_dic[key]=value\n",
    "print(\"filter_dic:\"+str(filter_dic))    \n"
   ]
  },
  {
   "cell_type": "markdown",
   "id": "f143f0fe",
   "metadata": {},
   "source": [
    "**42-Write a Python program to concatenate the following dictionaries to create a new one\n",
    "\n",
    "Sample Dictionary :\n",
    "dic1={1:10, 2:20}\n",
    "dic2={3:30, 4:40}\n",
    "dic3={5:50,6:60}\n",
    "Expected Result : {1: 10, 2: 20, 3: 30, 4: 40, 5: 50, 6: 60}"
   ]
  },
  {
   "cell_type": "code",
   "execution_count": 39,
   "id": "74ffdfea",
   "metadata": {},
   "outputs": [
    {
     "name": "stdout",
     "output_type": "stream",
     "text": [
      "result: {1: 10, 2: 20, 3: 30, 4: 40, 5: 50, 6: 60}\n"
     ]
    }
   ],
   "source": [
    "dic1={1:10, 2:20}\n",
    "dic2={3:30, 4:40}\n",
    "dic3={5:50,6:60} \n",
    "print(\"result:\",{**dic1,**dic2,**dic3})"
   ]
  },
  {
   "cell_type": "markdown",
   "id": "fb04c93c",
   "metadata": {},
   "source": [
    "**43-Write a Python program to iterate over dictionaries using for loops"
   ]
  },
  {
   "cell_type": "code",
   "execution_count": 42,
   "id": "6aebc470",
   "metadata": {},
   "outputs": [
    {
     "name": "stdout",
     "output_type": "stream",
     "text": [
      "Alice scored 85 marks\n",
      "Bob scored 92 marks\n",
      "Charlie scored 78 marks\n",
      "David scored 95 marks\n",
      "Eve scored 88 marks\n"
     ]
    }
   ],
   "source": [
    "student_scores = {'Alice': 85,'Bob': 92,'Charlie': 78,'David': 95,'Eve': 88}\n",
    "\n",
    "for student, score in student_scores.items():\n",
    "    print(f\"{student} scored {score} marks\")\n"
   ]
  },
  {
   "cell_type": "markdown",
   "id": "5f491a9d",
   "metadata": {},
   "source": [
    "**44- Write a Python script to merge two Python dictionaries"
   ]
  },
  {
   "cell_type": "code",
   "execution_count": 53,
   "id": "b8a14028",
   "metadata": {},
   "outputs": [
    {
     "name": "stdout",
     "output_type": "stream",
     "text": [
      "result: {1: 10, 2: 20, 3: 30, 4: 40}\n"
     ]
    }
   ],
   "source": [
    "dic1={1:10, 2:20}\n",
    "dic2={3:30, 4:40}\n",
    " \n",
    "print(\"result:\",{**dic1,**dic2})"
   ]
  },
  {
   "cell_type": "markdown",
   "id": "216fc72d",
   "metadata": {},
   "source": [
    "**45-Write a Python program to get the maximum and minimum values of a dictionary values"
   ]
  },
  {
   "cell_type": "code",
   "execution_count": null,
   "id": "d6883f5f",
   "metadata": {
    "scrolled": false
   },
   "outputs": [],
   "source": [
    "n=int(input(\"enter the number of dictionary:\"))\n",
    "s={}\n",
    "for a in range(n):\n",
    "    keys=(input(\"enter the key :\"))\n",
    "    values=int(input(\"enter the value:\"))\n",
    "    s[keys]=values\n",
    "print(s)\n",
    "x=(max(s.values()))\n",
    "print(x)\n",
    "print(min(s.values()))"
   ]
  },
  {
   "cell_type": "markdown",
   "id": "b6a53011",
   "metadata": {},
   "source": [
    "**46- Write a Python program to drop empty items from a given dictionary.\n",
    "Original Dictionary:\n",
    "{'c1': 'Red', 'c2': 'Green', 'c3': None}\n",
    "New Dictionary after dropping empty items:\n",
    "{'c1': 'Red', 'c2': 'Green'}"
   ]
  },
  {
   "cell_type": "code",
   "execution_count": null,
   "id": "b5c6fecf",
   "metadata": {},
   "outputs": [],
   "source": [
    "n=int(input(\"enter the number of dictionary:\"))\n",
    "s={}\n",
    "for a in range(n):\n",
    "    keys=(input(\"enter the key :\"))\n",
    "    values=int(input(\"enter the value:\"))\n",
    "    s[keys]=values\n",
    "print(s)\n",
    "def drop_empty_item(dic):\n",
    "    return{key:value for key,value in dic.items() if value is not None}\n",
    "filtered_dic=drop_empty_item(s)\n",
    "print(filtered_dic)\n",
    "         "
   ]
  },
  {
   "cell_type": "markdown",
   "id": "46d718c7",
   "metadata": {},
   "source": [
    "**47-Write a Python program to create a tuple of numbers and print one item"
   ]
  },
  {
   "cell_type": "code",
   "execution_count": 202,
   "id": "13216ff5",
   "metadata": {
    "scrolled": true
   },
   "outputs": [
    {
     "name": "stdout",
     "output_type": "stream",
     "text": [
      "2\n",
      "2\n",
      "2\n",
      "[2, 2]\n",
      "(2, 2)\n",
      "2\n"
     ]
    }
   ],
   "source": [
    "j=int(input())\n",
    "a=[]\n",
    "for i in range(j):\n",
    "    b=int(input())\n",
    "    a.append(b)\n",
    "print(a)    \n",
    "print(tuple(a))\n",
    "print(a[0])\n",
    "    \n"
   ]
  },
  {
   "cell_type": "markdown",
   "id": "2be5b56b",
   "metadata": {},
   "source": [
    "## **48-Write a Python program to unpack a tuple into several variables"
   ]
  },
  {
   "cell_type": "code",
   "execution_count": 199,
   "id": "595f44be",
   "metadata": {},
   "outputs": [
    {
     "name": "stdout",
     "output_type": "stream",
     "text": [
      "1\n"
     ]
    }
   ],
   "source": [
    "a=(1,2,3,4)\n",
    "w,e,r,t=a\n",
    "print(w)"
   ]
  },
  {
   "cell_type": "markdown",
   "id": "392388a7",
   "metadata": {},
   "source": [
    "**49-Write a Python program to add an item to a tuple"
   ]
  },
  {
   "cell_type": "code",
   "execution_count": 22,
   "id": "54cc092e",
   "metadata": {},
   "outputs": [
    {
     "name": "stdout",
     "output_type": "stream",
     "text": [
      "[2, 3, 4, 5, 2]\n",
      "(2, 3, 4, 5, 2)\n"
     ]
    }
   ],
   "source": [
    "a=(2,3,4,5)\n",
    "q=list(a)\n",
    "(q.append(2))\n",
    "print(q)\n",
    "print(tuple(q))"
   ]
  },
  {
   "cell_type": "markdown",
   "id": "3e8fd124",
   "metadata": {},
   "source": [
    "**50-Write a Python program to convert a tuple to a string"
   ]
  },
  {
   "cell_type": "code",
   "execution_count": null,
   "id": "92a71ddc",
   "metadata": {},
   "outputs": [],
   "source": [
    "a=(2,3,4,5)\n",
    "print(str(a))"
   ]
  },
  {
   "cell_type": "markdown",
   "id": "f4f64ef4",
   "metadata": {},
   "source": [
    "**51-Write a Python program to convert a list to a tuple"
   ]
  },
  {
   "cell_type": "code",
   "execution_count": 183,
   "id": "210d56d3",
   "metadata": {},
   "outputs": [
    {
     "name": "stdout",
     "output_type": "stream",
     "text": [
      "(1, 2, 3, 4, 5)\n"
     ]
    }
   ],
   "source": [
    "a=[1,2,3,4,5]\n",
    "print(tuple(a))"
   ]
  },
  {
   "cell_type": "markdown",
   "id": "b1e00ef7",
   "metadata": {},
   "source": [
    "**52-Write a Python program to reverse a tuple"
   ]
  },
  {
   "cell_type": "code",
   "execution_count": 40,
   "id": "f45bfdc7",
   "metadata": {},
   "outputs": [
    {
     "name": "stdout",
     "output_type": "stream",
     "text": [
      "[1, 2, 3, 4, 5]\n",
      "(5, 4, 3, 2, 1)\n"
     ]
    }
   ],
   "source": [
    "a=(1,2,3,4,5)\n",
    "mylist=list(a)\n",
    "print(mylist)\n",
    "q=a[::-1]\n",
    "print(tuple(q))"
   ]
  },
  {
   "cell_type": "markdown",
   "id": "3cd347d1",
   "metadata": {},
   "source": [
    "**53-Write a Python program to replace the last value of tuples in a list.\n",
    "Sample list: [(10, 20, 40), (40, 50, 60), (70, 80, 90)]\n",
    "Expected Output: [(10, 20, 100), (40, 50, 100), (70, 80, 100)]"
   ]
  },
  {
   "cell_type": "code",
   "execution_count": 59,
   "id": "3c4a2a4c",
   "metadata": {},
   "outputs": [
    {
     "name": "stdout",
     "output_type": "stream",
     "text": [
      "enter num of row: 3\n",
      "1 2 3\n",
      "2 3 4 \n",
      "3 4 5\n",
      "[(1, 2, 3), (2, 3, 4), (3, 4, 5)]\n",
      "[(1, 2, 100), (2, 3, 100), (3, 4, 100)]\n"
     ]
    }
   ],
   "source": [
    "t=list(tuple(map(int,input().split()))for r in range(int(input(\"enter num of row: \")))) \n",
    "print(t)\n",
    "l=[]\n",
    "for r in t:\n",
    "    new=r[:-1]+(100,)\n",
    "    l.append(new)\n",
    "print(l)    \n",
    "           "
   ]
  },
  {
   "cell_type": "markdown",
   "id": "76bb7b39",
   "metadata": {},
   "source": [
    "### **54-Write a Python program to convert a given string list to a tuple\n",
    "Original string: python 3.0\n",
    "<class 'str'>\n",
    "Convert the said string to a tuple:\n",
    "('p', 'y', 't', 'h', 'o', 'n', '3', '.', '0')"
   ]
  },
  {
   "cell_type": "code",
   "execution_count": null,
   "id": "51951937",
   "metadata": {},
   "outputs": [],
   "source": [
    "print(tuple(['p', 'y', 't', 'h', 'o', 'n', '3', '.', '0']))"
   ]
  },
  {
   "cell_type": "markdown",
   "id": "5a1d5d97",
   "metadata": {},
   "source": [
    "**55-Write a Python program to calculate the average value of the numbers in a given tuple of tuples"
   ]
  },
  {
   "cell_type": "code",
   "execution_count": 171,
   "id": "834e7992",
   "metadata": {
    "scrolled": true
   },
   "outputs": [
    {
     "name": "stdout",
     "output_type": "stream",
     "text": [
      "4\n",
      "3.0\n"
     ]
    }
   ],
   "source": [
    "a=(1,2,3,4,5)\n",
    "print(a[3])\n",
    "print(sum(a)/len(a))"
   ]
  },
  {
   "cell_type": "markdown",
   "id": "51edab9c",
   "metadata": {},
   "source": [
    "### **56-Write a Python program to add member(s) to a set."
   ]
  },
  {
   "cell_type": "code",
   "execution_count": 157,
   "id": "2b65df79",
   "metadata": {
    "scrolled": false
   },
   "outputs": [
    {
     "name": "stdout",
     "output_type": "stream",
     "text": [
      "{1, 2, 3, 4, 5, 8}\n"
     ]
    }
   ],
   "source": [
    "\n",
    "s={1,2,3,4,5}\n",
    "s.add(8)\n",
    "print(s)\n",
    "    \n"
   ]
  },
  {
   "cell_type": "markdown",
   "id": "965590cc",
   "metadata": {},
   "source": [
    "**57-Write a Python program to remove an item from a set if it is present in the set."
   ]
  },
  {
   "cell_type": "code",
   "execution_count": 151,
   "id": "866bab28",
   "metadata": {},
   "outputs": [],
   "source": [
    "a={\"w\",\"w\",3}\n"
   ]
  },
  {
   "cell_type": "markdown",
   "id": "2b7cfed1",
   "metadata": {},
   "source": [
    "**58-Write a Python program to create an intersection,union,difference and symmetric difference of sets"
   ]
  },
  {
   "cell_type": "code",
   "execution_count": 138,
   "id": "7f94b7fe",
   "metadata": {},
   "outputs": [
    {
     "name": "stdout",
     "output_type": "stream",
     "text": [
      "{0, 1, 'r', 3, 4, 'e', 8, 9}\n",
      "set()\n",
      "{0, 1, 'r', 3, 4, 'e', 8, 9}\n",
      "{1, 3, 4, 'e'}\n"
     ]
    }
   ],
   "source": [
    "a={\"e\",1,3,4}\n",
    "b={\"r\",8,9,0}\n",
    "print(a|b)\n",
    "print(a&b)\n",
    "print(a^b)\n",
    "print(a-b)"
   ]
  },
  {
   "cell_type": "markdown",
   "id": "b94931e2",
   "metadata": {},
   "source": [
    "**59-Write a Python program to find the maximum and minimum values in a set"
   ]
  },
  {
   "cell_type": "code",
   "execution_count": null,
   "id": "203f9600",
   "metadata": {
    "scrolled": true
   },
   "outputs": [],
   "source": [
    "a=int(input(\"enter number of set:\"))\n",
    "s=set()\n",
    "for i in range (a):\n",
    "    num=int(input(\"please enter num:\"))\n",
    "    s.add(num)\n",
    "print(s) \n",
    "print(max(s))\n",
    "print(min(s))   "
   ]
  },
  {
   "cell_type": "markdown",
   "id": "974fb874",
   "metadata": {},
   "source": [
    " "
   ]
  },
  {
   "cell_type": "markdown",
   "id": "255fd554",
   "metadata": {},
   "source": [
    "**60- Write a Python program that finds all pairs of elements in a list whose sum is equal to a given value."
   ]
  },
  {
   "cell_type": "code",
   "execution_count": 79,
   "id": "d0078a0a",
   "metadata": {},
   "outputs": [
    {
     "name": "stdout",
     "output_type": "stream",
     "text": [
      "please enter anum3\n",
      "1 2\n",
      "2 3\n",
      "3 4\n",
      "[(1, 2), (2, 3), (3, 4)]\n",
      "[(1, 2)]\n"
     ]
    }
   ],
   "source": [
    "t=list(tuple(map(int,input().split()))for r in range(int(input(\"please enter anum\"))))\n",
    "print(t)\n",
    "k=3\n",
    "l=[]\n",
    "for test in t:\n",
    "    if sum(test)==k:\n",
    "        l.append(test)\n",
    "print(l)"
   ]
  },
  {
   "cell_type": "code",
   "execution_count": null,
   "id": "0c0559e4",
   "metadata": {},
   "outputs": [],
   "source": []
  },
  {
   "cell_type": "code",
   "execution_count": null,
   "id": "3d8e29f4",
   "metadata": {},
   "outputs": [],
   "source": []
  },
  {
   "cell_type": "code",
   "execution_count": null,
   "id": "5df3965c",
   "metadata": {},
   "outputs": [],
   "source": []
  }
 ],
 "metadata": {
  "kernelspec": {
   "display_name": "Python 3 (ipykernel)",
   "language": "python",
   "name": "python3"
  },
  "language_info": {
   "codemirror_mode": {
    "name": "ipython",
    "version": 3
   },
   "file_extension": ".py",
   "mimetype": "text/x-python",
   "name": "python",
   "nbconvert_exporter": "python",
   "pygments_lexer": "ipython3",
   "version": "3.10.9"
  }
 },
 "nbformat": 4,
 "nbformat_minor": 5
}
